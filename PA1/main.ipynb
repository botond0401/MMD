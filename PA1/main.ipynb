import pandas as pd
import numpy as np
import matplotlib.pyplot as plt

from functions import *


df_tracks = pd.read_csv('fma_metadata/tracks.csv', index_col=0, header=[0, 1])
df_features = pd.read_csv('fma_metadata/features.csv', index_col=0, header=[0, 1, 2])

df_tracks = df_tracks[df_tracks['set']['subset'] == 'medium']
df_features = df_features.loc[df_tracks.index]

indices_training = df_tracks[df_tracks[('set', 'split')] == 'training'].index
indices_validation = df_tracks[df_tracks[('set', 'split')] == 'validation'].index
indices_test = df_tracks[df_tracks[('set', 'split')] == 'test'].index

df_features_training = df_features.loc[indices_training]
df_features_validation = df_features.loc[indices_validation]
df_features_test = df_features.loc[indices_test]

d = df_features.shape[1]
l = 3
n = 4
for i in (df_features_training.iloc[:4, :].values @ hash_tables[1].values > 0).astype(int).astype(str):
    print(''.join(i))
